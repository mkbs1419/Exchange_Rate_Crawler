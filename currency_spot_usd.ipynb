{
 "cells": [
  {
   "cell_type": "code",
   "execution_count": 1,
   "metadata": {
    "collapsed": true
   },
   "outputs": [],
   "source": [
    "import pandas as pd\n",
    "import pymysql.cursors\n",
    "import time\n",
    "from datetime import datetime, timedelta, date"
   ]
  },
  {
   "cell_type": "code",
   "execution_count": 2,
   "metadata": {
    "collapsed": true
   },
   "outputs": [],
   "source": [
    "def getconn():\n",
    "    connection = pymysql.connect(host='{YOUR_HOST_IP}',\n",
    "                                 user='{YOUR_ID}',\n",
    "                                 password='{YOUR_PASSWORD}',\n",
    "                                 db='exchange_rate',\n",
    "                                 charset='utf8mb4',\n",
    "                                 cursorclass=pymysql.cursors.DictCursor)\n",
    "    return connection\n",
    "\n",
    "def getdata(date):  # %Y-%m-%d\n",
    "#     headers = {'User-agent' : 'Mozilla/5.0 (Windows NT 6.2; WOW64; rv:22.0) Gecko/20100101 Firefox/22.0'}\n",
    "    print \"loading...\", date\n",
    "    dfs = pd.read_html('http://rate.bot.com.tw/xrt/quote/' + date + '/USD/spot')\n",
    "    currency = dfs[0]\n",
    "    currency.columns = [u'時間',u'type',u'現金匯率-本行買入',u'現金匯率-本行賣出',u'即期匯率-本行買入',u'即期匯率-本行賣出']\n",
    "    return currency\n",
    "\n",
    "def processdata(currency):\n",
    "    del currency['type']\n",
    "    ran = currency.shape[0]\n",
    "    for r in range(0, ran):\n",
    "        datalist = []\n",
    "        for i in currency:\n",
    "#             print currency[i][r]\n",
    "            datalist.append(str(currency[i][r]))\n",
    "        # insert data to DB\n",
    "        insertdata(datalist)\n",
    "    connection.commit()\n",
    "        \n",
    "def insertdata(datalist):\n",
    "    with connection.cursor() as cursor:\n",
    "        # Create a new record\n",
    "        end = \"\\\"\" + datalist[0] + \"\\\",\" + datalist[1] + \",\" + datalist[2] + \",\" + datalist[3] + \",\" + datalist[4]\n",
    "        sql = \"INSERT INTO `currency_spot_usd` (`時間`, `現金匯率-本行買入`, `現金匯率-本行賣出`, `即期匯率-本行買入`, `即期匯率-本行賣出`) VALUES (\"+end+\")\"\n",
    "        cursor.execute(sql)\n",
    "        \n",
    "def daterange(start_date, end_date):\n",
    "    for n in range(int ((end_date - start_date).days)):\n",
    "        yield start_date + timedelta(n)"
   ]
  },
  {
   "cell_type": "code",
   "execution_count": 3,
   "metadata": {
    "scrolled": true
   },
   "outputs": [
    {
     "name": "stdout",
     "output_type": "stream",
     "text": [
      "loading... 2017-06-04\n",
      "scritps finish. 2017-06-04  to  2017-06-04\n"
     ]
    }
   ],
   "source": [
    "if __name__ == \"__main__\":\n",
    "    try:\n",
    "        start_date = date(2017, 6, 4)\n",
    "        end_date = date(2017, 12, 31)\n",
    "        connection = getconn()\n",
    "        for single_date in daterange(start_date, end_date):\n",
    "            time.sleep(5)\n",
    "            currency = getdata(single_date.strftime(\"%Y-%m-%d\"))\n",
    "            processdata(currency)\n",
    "    except Exception as e:\n",
    "        connection.commit()\n",
    "        print e\n",
    "    finally:\n",
    "        connection.close()\n",
    "        print \"scritps finish.\", start_date, \" to \", single_date"
   ]
  },
  {
   "cell_type": "code",
   "execution_count": null,
   "metadata": {
    "collapsed": true
   },
   "outputs": [],
   "source": []
  }
 ],
 "metadata": {
  "kernelspec": {
   "display_name": "Python [default]",
   "language": "python",
   "name": "python2"
  },
  "language_info": {
   "codemirror_mode": {
    "name": "ipython",
    "version": 2
   },
   "file_extension": ".py",
   "mimetype": "text/x-python",
   "name": "python",
   "nbconvert_exporter": "python",
   "pygments_lexer": "ipython2",
   "version": "2.7.14"
  }
 },
 "nbformat": 4,
 "nbformat_minor": 2
}
